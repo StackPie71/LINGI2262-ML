{
 "cells": [
  {
   "cell_type": "markdown",
   "metadata": {},
   "source": [
    "# LINGI2262: Assignment 3"
   ]
  },
  {
   "cell_type": "markdown",
   "metadata": {},
   "source": [
    "## A3.0 - Theory"
   ]
  },
  {
   "cell_type": "markdown",
   "metadata": {},
   "source": [
    "### Confidence interval from the Normal approximation"
   ]
  },
  {
   "cell_type": "code",
   "execution_count": null,
   "metadata": {},
   "outputs": [],
   "source": [
    "import numpy as np\n",
    "from scipy.stats import norm"
   ]
  },
  {
   "cell_type": "code",
   "execution_count": 21,
   "metadata": {},
   "outputs": [
    {
     "data": {
      "text/plain": [
       "array([0, 0, 0, 1, 0, 0, 0, 0, 0, 0, 0, 1, 0, 0, 0, 1, 1, 0, 0, 1, 1, 0,\n",
       "       0, 1, 0, 0, 1, 0, 0, 0, 0, 0, 1, 1, 0, 0, 0, 1, 0, 1])"
      ]
     },
     "execution_count": 21,
     "metadata": {},
     "output_type": "execute_result"
    }
   ],
   "source": [
    "# Consider 12 errors out of 40 test examples\n",
    "n = 40\n",
    "errors = np.repeat(np.array([1, 0]), [12, n-12], axis=0)\n",
    "# Make it more realistic by permuting at random\n",
    "np.random.shuffle(errors)\n",
    "errors"
   ]
  },
  {
   "cell_type": "code",
   "execution_count": 4,
   "metadata": {},
   "outputs": [
    {
     "name": "stdout",
     "output_type": "stream",
     "text": [
      "[0.158 0.442]\n"
     ]
    }
   ],
   "source": [
    "p_hat = np.mean(errors) # Estimate proportion\n",
    "SE = np.sqrt(p_hat*(1-p_hat)/n) # Estimate deviation\n",
    "alpha = 0.05 # Set significance level\n",
    "z_n = norm.ppf(1-alpha/2) # Percentile of the Normal Distribution\n",
    "CI = (p_hat - z_n*SE, p_hat + z_n*SE) # Confidence interval\n",
    "CI = norm.interval(1-alpha, p_hat, SE) # Equivalent computation\n",
    "print(np.around(np.array(CI), 3)) # Round to 3 digits"
   ]
  },
  {
   "cell_type": "markdown",
   "metadata": {},
   "source": [
    "### p-value or attained level of significance"
   ]
  },
  {
   "cell_type": "code",
   "execution_count": null,
   "metadata": {},
   "outputs": [],
   "source": [
    "from scipy.stats import norm"
   ]
  },
  {
   "cell_type": "code",
   "execution_count": 5,
   "metadata": {},
   "outputs": [
    {
     "name": "stdout",
     "output_type": "stream",
     "text": [
      "p-value =  0.0043719229098264645\n"
     ]
    }
   ],
   "source": [
    "# Probability under Normal density\n",
    "Proba = norm.cdf(2.85)-norm.cdf(-2.85)\n",
    "# p-value\n",
    "pvalue = 1 - Proba\n",
    "print(\"p-value = \", pvalue)"
   ]
  },
  {
   "cell_type": "markdown",
   "metadata": {},
   "source": [
    "### Comparing classifier performances with the Chi-squarred test"
   ]
  },
  {
   "cell_type": "code",
   "execution_count": 15,
   "metadata": {},
   "outputs": [],
   "source": [
    "import pandas as pd\n",
    "from scipy import stats"
   ]
  },
  {
   "cell_type": "code",
   "execution_count": 16,
   "metadata": {},
   "outputs": [
    {
     "name": "stdout",
     "output_type": "stream",
     "text": [
      "         S_1  S_2\n",
      "Error    300  360\n",
      "Correct  700  640\n",
      "p-value =  0.005021\n"
     ]
    }
   ],
   "source": [
    "# Store sample sizes and number of errors\n",
    "n1 = 1000\n",
    "m1 = 300\n",
    "n2 = 1000\n",
    "m2 = 360\n",
    "# Store errors and correct classifications in a 2x2 table\n",
    "perf = pd.DataFrame([[m1, m2], [n1-m1, n2-m2]], index=[\"Error\", \"Correct\"])\n",
    "perf.columns = [\"S_1\", \"S_2\"]\n",
    "print(perf)\n",
    "# Test for equality of error rates\n",
    "pvalue = stats.chi2_contingency(perf)[1]\n",
    "print(\"p-value = \", '{0:.6f}'.format(pvalue))"
   ]
  },
  {
   "cell_type": "markdown",
   "metadata": {},
   "source": [
    "## A3.2"
   ]
  },
  {
   "cell_type": "markdown",
   "metadata": {},
   "source": [
    "### A3.2.1 + A3.2.2"
   ]
  },
  {
   "cell_type": "code",
   "execution_count": 27,
   "metadata": {},
   "outputs": [],
   "source": [
    "n = 100\n",
    "errors = np.repeat(np.array([1, 0]), [16, n-16], axis=0)\n",
    "# Make it more realistic by permuting at random\n",
    "np.random.shuffle(errors)"
   ]
  },
  {
   "cell_type": "code",
   "execution_count": 28,
   "metadata": {},
   "outputs": [
    {
     "name": "stdout",
     "output_type": "stream",
     "text": [
      "[0.088 0.232]\n"
     ]
    }
   ],
   "source": [
    "p_hat = np.mean(errors) # Estimate proportion\n",
    "SE = np.sqrt(p_hat*(1-p_hat)/n) # Estimate deviation\n",
    "alpha = 0.05 # Set significance level\n",
    "z_n = norm.ppf(1-alpha/2) # Percentile of the Normal Distribution\n",
    "CI = (p_hat - z_n*SE, p_hat + z_n*SE) # Confidence interval\n",
    "CI = norm.interval(1-alpha, p_hat, SE) # Equivalent computation\n",
    "print(np.around(np.array(CI), 3)) # Round to 3 digits"
   ]
  },
  {
   "cell_type": "markdown",
   "metadata": {},
   "source": [
    "### A3.2.4"
   ]
  },
  {
   "cell_type": "code",
   "execution_count": 47,
   "metadata": {},
   "outputs": [
    {
     "name": "stdout",
     "output_type": "stream",
     "text": [
      "            S_1     S_2\n",
      "Error    125.76  167.68\n",
      "Correct  922.24  880.32\n",
      "p-value =  0.009998\n"
     ]
    }
   ],
   "source": [
    "# Store sample sizes and number of errors\n",
    "n = 1048\n",
    "n1 = n\n",
    "m1 = 0.12 * n\n",
    "n2 = n\n",
    "m2 = 0.16 * n\n",
    "# Store errors and correct classifications in a 2x2 table\n",
    "perf = pd.DataFrame([[m1, m2], [n1-m1, n2-m2]], index=[\"Error\", \"Correct\"])\n",
    "perf.columns = [\"S_1\", \"S_2\"]\n",
    "print(perf)\n",
    "# Test for equality of error rates\n",
    "pvalue = stats.chi2_contingency(perf)[1]\n",
    "print(\"p-value = \", '{0:.6f}'.format(pvalue))"
   ]
  },
  {
   "cell_type": "markdown",
   "metadata": {},
   "source": [
    "## A3.3"
   ]
  },
  {
   "cell_type": "code",
   "execution_count": 137,
   "metadata": {},
   "outputs": [],
   "source": [
    "# TO RUN FIRST !!!\n",
    "import pandas as pd\n",
    "import numpy as np\n",
    "import matplotlib.pyplot as plt\n",
    "\n",
    "from sklearn.tree import DecisionTreeClassifier\n",
    "from sklearn.metrics import accuracy_score\n",
    "from scipy import stats"
   ]
  },
  {
   "cell_type": "code",
   "execution_count": 138,
   "metadata": {},
   "outputs": [],
   "source": [
    "#Import of our data sets\n",
    "train_df = pd.read_csv(\"CollegeTrain.csv\", index_col=0)\n",
    "test_df = pd.read_csv(\"CollegeTest.csv\", index_col=0)\n",
    "\n",
    "CollegeTrain = train_df\n",
    "CollegeTest = test_df"
   ]
  },
  {
   "cell_type": "markdown",
   "metadata": {},
   "source": [
    "### A3.3.1"
   ]
  },
  {
   "cell_type": "code",
   "execution_count": 139,
   "metadata": {},
   "outputs": [],
   "source": [
    "# Taking 5% of the training set\n",
    "train_df_05 = train_df.sample(frac = 0.05, random_state=0)\n",
    "X_train_05 = train_df_05.drop(\"Outcome\", axis=1)\n",
    "y_train_05 = pd.DataFrame(data=train_df_05[\"Outcome\"], columns=[\"Outcome\"])\n",
    "\n",
    "# Training the Decision Tree Classifier\n",
    "tree = DecisionTreeClassifier(random_state=0)\n",
    "tree.fit(X_train_05, y_train_05)\n",
    "\n",
    "# Creating a test set with 100 disctincts examples\n",
    "test_df_100 = test_df.sample(n=100, random_state=0)\n",
    "X_test_100 = test_df_100.drop(\"Outcome\", axis=1)\n",
    "y_test_100 = pd.DataFrame(data=test_df_100[\"Outcome\"], columns=[\"Outcome\"])\n",
    "\n",
    "# Computing the accuracy of our decision tree on this test set\n",
    "y_test_100_pred = tree.predict(X_test_100)\n",
    "score_test = accuracy_score(y_test_100, y_test_100_pred)"
   ]
  },
  {
   "cell_type": "markdown",
   "metadata": {},
   "source": [
    "### A3.3.2"
   ]
  },
  {
   "cell_type": "code",
   "execution_count": 140,
   "metadata": {},
   "outputs": [
    {
     "data": {
      "text/plain": [
       "0.734"
      ]
     },
     "execution_count": 140,
     "metadata": {},
     "output_type": "execute_result"
    }
   ],
   "source": [
    "# Parameters\n",
    "n = 100\n",
    "\n",
    "# Creating a confidence interval for the classification rate\n",
    "p_hat = np.mean(score_test) # Estimate proportion\n",
    "SE = np.sqrt(p_hat*(1-p_hat)/n) # Estimate deviation\n",
    "alpha = 0.05 # Set significance level\n",
    "z_n = norm.ppf(1-alpha/2) # Percentile of the Normal Distribution\n",
    "CI = (p_hat - z_n*SE, p_hat + z_n*SE) # Confidence interval\n",
    "CI = norm.interval(1-alpha, p_hat, SE) # Equivalent computation\n",
    "CI_array = np.around(np.array(CI), 3) # Round to 3 digits\n",
    "CI_array[1]"
   ]
  },
  {
   "cell_type": "markdown",
   "metadata": {},
   "source": [
    "### A3.3.3"
   ]
  },
  {
   "cell_type": "code",
   "execution_count": 141,
   "metadata": {},
   "outputs": [
    {
     "data": {
      "text/plain": [
       "0.6674"
      ]
     },
     "execution_count": 141,
     "metadata": {},
     "output_type": "execute_result"
    }
   ],
   "source": [
    "test_acc = []\n",
    "for i in range(100):\n",
    "    # Creation of a test set of size n=100\n",
    "    test_df = CollegeTest.sample(n=100, random_state=i)\n",
    "    X_test = test_df.drop(\"Outcome\", axis=1)\n",
    "    y_test = pd.DataFrame(data=test_df[\"Outcome\"], columns=[\"Outcome\"])\n",
    "    \n",
    "    # Prediction on this test set and accuracy score\n",
    "    y_test_pred = tree.predict(X_test)\n",
    "    score_test = accuracy_score(y_test, y_test_pred)\n",
    "    test_acc.append(score_test)\n",
    "    \n",
    "test_accs = test_acc\n",
    "mean_test_acc = np.mean(test_acc)\n",
    "mean_test_acc"
   ]
  },
  {
   "cell_type": "markdown",
   "metadata": {},
   "source": [
    "### A3.3.4"
   ]
  },
  {
   "cell_type": "code",
   "execution_count": 144,
   "metadata": {},
   "outputs": [
    {
     "data": {
      "text/plain": [
       "0.61"
      ]
     },
     "execution_count": 144,
     "metadata": {},
     "output_type": "execute_result"
    }
   ],
   "source": [
    "test_acc.sort()\n",
    "index = int(0.025*len(test_acc))\n",
    "observed_lower_bound = test_acc[index + 1]\n",
    "observed_upper_bound = test_acc[-index-2]"
   ]
  },
  {
   "cell_type": "markdown",
   "metadata": {},
   "source": [
    "### A3.3.5"
   ]
  },
  {
   "cell_type": "code",
   "execution_count": 155,
   "metadata": {},
   "outputs": [],
   "source": [
    "results = pd.DataFrame(columns=['indiv_test_acc', 'CI_lower_bound', 'CI_upper_bound', \n",
    "                                'mean_test_acc', 'observed_lower_bound',\n",
    "                                'observed_upper_bound'])\n",
    "indiv_test_acc = []\n",
    "CI_lower_bound = []\n",
    "CI_upper_bound = []\n",
    "mean_test_acc = []\n",
    "observed_lower_bound = []\n",
    "observed_upper_bound = []\n",
    "\n",
    "n = 100\n",
    "\n",
    "for epoch in range(20):\n",
    "    # Taking 5% of the training set\n",
    "    train_df_05 = CollegeTrain.sample(frac=0.05, random_state=epoch)\n",
    "    X_train_05 = train_df_05.drop(\"Outcome\", axis=1)\n",
    "    y_train_05 = pd.DataFrame(data=train_df_05[\"Outcome\"], columns=[\"Outcome\"])\n",
    "    # Training the Decision Tree Classifier\n",
    "    tree = DecisionTreeClassifier(random_state=epoch)\n",
    "    tree.fit(X_train_05, y_train_05)\n",
    "    # Creating a test set with 100 disctincts examples\n",
    "    test_df_100 = CollegeTest.sample(n=100, random_state=epoch)\n",
    "    X_test_100 = test_df_100.drop(\"Outcome\", axis=1)\n",
    "    y_test_100 = pd.DataFrame(data=test_df_100[\"Outcome\"], columns=[\"Outcome\"])\n",
    "    # Computing the accuracy of our decision tree on this test set\n",
    "    y_test_100_pred = tree.predict(X_test_100)\n",
    "    score_test = accuracy_score(y_test_100, y_test_100_pred)\n",
    "    indiv_test_acc.append(score_test)\n",
    "    \n",
    "    # Creating a confidence interval for the classification rate\n",
    "    p_hat = np.mean(score_test) # Estimate proportion\n",
    "    SE = np.sqrt(p_hat*(1-p_hat)/n) # Estimate deviation\n",
    "    alpha = 0.05 # Set significance level\n",
    "    z_n = stats.norm.ppf(1-alpha/2) # Percentile of the Normal Distribution\n",
    "    CI = (p_hat - z_n*SE, p_hat + z_n*SE) # Confidence interval\n",
    "    CI = stats.norm.interval(1-alpha, p_hat, SE) # Equivalent computation\n",
    "    CI_array = np.around(np.array(CI), 3) # Round to 3 digits\n",
    "    CI_lower_bound.append(CI_array[0])\n",
    "    CI_upper_bound.append(CI_array[1])\n",
    "    \n",
    "    # 100*test sets of size n=100\n",
    "    test_acc = []\n",
    "    for i in range(100):\n",
    "        # Creation of a test set of size n=100\n",
    "        test_df = CollegeTest.sample(n=100, random_state=i*epoch)\n",
    "        X_test = test_df.drop(\"Outcome\", axis=1)\n",
    "        y_test = pd.DataFrame(data=test_df[\"Outcome\"], columns=[\"Outcome\"])\n",
    "    \n",
    "        # Prediction on this test set and accuracy score\n",
    "        y_test_pred = tree.predict(X_test)\n",
    "        score_test = accuracy_score(y_test, y_test_pred)\n",
    "        test_acc.append(score_test)\n",
    "    \n",
    "    mean_test_acc.append(np.mean(test_acc))\n",
    "    test_acc.sort()\n",
    "    index = int(0.025*len(test_acc))\n",
    "    observed_lower_bound.append(test_acc[index + 1])\n",
    "    observed_upper_bound.append(test_acc[-index - 2])\n",
    "    \n",
    "    \n",
    "results['indiv_test_acc'] = indiv_test_acc\n",
    "results['CI_lower_bound'] = CI_lower_bound\n",
    "results['CI_upper_bound'] = CI_upper_bound\n",
    "results['mean_test_acc'] = mean_test_acc\n",
    "results['observed_lower_bound'] = observed_lower_bound\n",
    "results['observed_upper_bound'] = observed_upper_bound"
   ]
  },
  {
   "cell_type": "code",
   "execution_count": 156,
   "metadata": {},
   "outputs": [
    {
     "data": {
      "text/html": [
       "<div>\n",
       "<style scoped>\n",
       "    .dataframe tbody tr th:only-of-type {\n",
       "        vertical-align: middle;\n",
       "    }\n",
       "\n",
       "    .dataframe tbody tr th {\n",
       "        vertical-align: top;\n",
       "    }\n",
       "\n",
       "    .dataframe thead th {\n",
       "        text-align: right;\n",
       "    }\n",
       "</style>\n",
       "<table border=\"1\" class=\"dataframe\">\n",
       "  <thead>\n",
       "    <tr style=\"text-align: right;\">\n",
       "      <th></th>\n",
       "      <th>indiv_test_acc</th>\n",
       "      <th>CI_lower_bound</th>\n",
       "      <th>CI_upper_bound</th>\n",
       "      <th>mean_test_acc</th>\n",
       "      <th>observed_lower_bound</th>\n",
       "      <th>observed_upper_bound</th>\n",
       "    </tr>\n",
       "  </thead>\n",
       "  <tbody>\n",
       "    <tr>\n",
       "      <th>0</th>\n",
       "      <td>0.64</td>\n",
       "      <td>0.546</td>\n",
       "      <td>0.734</td>\n",
       "      <td>0.6400</td>\n",
       "      <td>0.64</td>\n",
       "      <td>0.64</td>\n",
       "    </tr>\n",
       "    <tr>\n",
       "      <th>1</th>\n",
       "      <td>0.59</td>\n",
       "      <td>0.494</td>\n",
       "      <td>0.686</td>\n",
       "      <td>0.6240</td>\n",
       "      <td>0.55</td>\n",
       "      <td>0.69</td>\n",
       "    </tr>\n",
       "    <tr>\n",
       "      <th>2</th>\n",
       "      <td>0.62</td>\n",
       "      <td>0.525</td>\n",
       "      <td>0.715</td>\n",
       "      <td>0.6753</td>\n",
       "      <td>0.61</td>\n",
       "      <td>0.73</td>\n",
       "    </tr>\n",
       "    <tr>\n",
       "      <th>3</th>\n",
       "      <td>0.61</td>\n",
       "      <td>0.514</td>\n",
       "      <td>0.706</td>\n",
       "      <td>0.6791</td>\n",
       "      <td>0.62</td>\n",
       "      <td>0.73</td>\n",
       "    </tr>\n",
       "    <tr>\n",
       "      <th>4</th>\n",
       "      <td>0.62</td>\n",
       "      <td>0.525</td>\n",
       "      <td>0.715</td>\n",
       "      <td>0.6744</td>\n",
       "      <td>0.62</td>\n",
       "      <td>0.73</td>\n",
       "    </tr>\n",
       "    <tr>\n",
       "      <th>5</th>\n",
       "      <td>0.75</td>\n",
       "      <td>0.665</td>\n",
       "      <td>0.835</td>\n",
       "      <td>0.6608</td>\n",
       "      <td>0.60</td>\n",
       "      <td>0.72</td>\n",
       "    </tr>\n",
       "    <tr>\n",
       "      <th>6</th>\n",
       "      <td>0.60</td>\n",
       "      <td>0.504</td>\n",
       "      <td>0.696</td>\n",
       "      <td>0.5766</td>\n",
       "      <td>0.52</td>\n",
       "      <td>0.64</td>\n",
       "    </tr>\n",
       "    <tr>\n",
       "      <th>7</th>\n",
       "      <td>0.67</td>\n",
       "      <td>0.578</td>\n",
       "      <td>0.762</td>\n",
       "      <td>0.7285</td>\n",
       "      <td>0.67</td>\n",
       "      <td>0.77</td>\n",
       "    </tr>\n",
       "    <tr>\n",
       "      <th>8</th>\n",
       "      <td>0.67</td>\n",
       "      <td>0.578</td>\n",
       "      <td>0.762</td>\n",
       "      <td>0.7481</td>\n",
       "      <td>0.70</td>\n",
       "      <td>0.80</td>\n",
       "    </tr>\n",
       "    <tr>\n",
       "      <th>9</th>\n",
       "      <td>0.70</td>\n",
       "      <td>0.610</td>\n",
       "      <td>0.790</td>\n",
       "      <td>0.6551</td>\n",
       "      <td>0.60</td>\n",
       "      <td>0.72</td>\n",
       "    </tr>\n",
       "    <tr>\n",
       "      <th>10</th>\n",
       "      <td>0.66</td>\n",
       "      <td>0.567</td>\n",
       "      <td>0.753</td>\n",
       "      <td>0.6286</td>\n",
       "      <td>0.56</td>\n",
       "      <td>0.69</td>\n",
       "    </tr>\n",
       "    <tr>\n",
       "      <th>11</th>\n",
       "      <td>0.78</td>\n",
       "      <td>0.699</td>\n",
       "      <td>0.861</td>\n",
       "      <td>0.7407</td>\n",
       "      <td>0.69</td>\n",
       "      <td>0.79</td>\n",
       "    </tr>\n",
       "    <tr>\n",
       "      <th>12</th>\n",
       "      <td>0.62</td>\n",
       "      <td>0.525</td>\n",
       "      <td>0.715</td>\n",
       "      <td>0.6240</td>\n",
       "      <td>0.56</td>\n",
       "      <td>0.68</td>\n",
       "    </tr>\n",
       "    <tr>\n",
       "      <th>13</th>\n",
       "      <td>0.52</td>\n",
       "      <td>0.422</td>\n",
       "      <td>0.618</td>\n",
       "      <td>0.5176</td>\n",
       "      <td>0.46</td>\n",
       "      <td>0.59</td>\n",
       "    </tr>\n",
       "    <tr>\n",
       "      <th>14</th>\n",
       "      <td>0.72</td>\n",
       "      <td>0.632</td>\n",
       "      <td>0.808</td>\n",
       "      <td>0.6980</td>\n",
       "      <td>0.63</td>\n",
       "      <td>0.75</td>\n",
       "    </tr>\n",
       "    <tr>\n",
       "      <th>15</th>\n",
       "      <td>0.74</td>\n",
       "      <td>0.654</td>\n",
       "      <td>0.826</td>\n",
       "      <td>0.7674</td>\n",
       "      <td>0.72</td>\n",
       "      <td>0.82</td>\n",
       "    </tr>\n",
       "    <tr>\n",
       "      <th>16</th>\n",
       "      <td>0.68</td>\n",
       "      <td>0.589</td>\n",
       "      <td>0.771</td>\n",
       "      <td>0.6843</td>\n",
       "      <td>0.64</td>\n",
       "      <td>0.74</td>\n",
       "    </tr>\n",
       "    <tr>\n",
       "      <th>17</th>\n",
       "      <td>0.51</td>\n",
       "      <td>0.412</td>\n",
       "      <td>0.608</td>\n",
       "      <td>0.5601</td>\n",
       "      <td>0.51</td>\n",
       "      <td>0.61</td>\n",
       "    </tr>\n",
       "    <tr>\n",
       "      <th>18</th>\n",
       "      <td>0.73</td>\n",
       "      <td>0.643</td>\n",
       "      <td>0.817</td>\n",
       "      <td>0.6526</td>\n",
       "      <td>0.59</td>\n",
       "      <td>0.71</td>\n",
       "    </tr>\n",
       "    <tr>\n",
       "      <th>19</th>\n",
       "      <td>0.56</td>\n",
       "      <td>0.463</td>\n",
       "      <td>0.657</td>\n",
       "      <td>0.6196</td>\n",
       "      <td>0.55</td>\n",
       "      <td>0.67</td>\n",
       "    </tr>\n",
       "  </tbody>\n",
       "</table>\n",
       "</div>"
      ],
      "text/plain": [
       "    indiv_test_acc  CI_lower_bound  CI_upper_bound  mean_test_acc  \\\n",
       "0             0.64           0.546           0.734         0.6400   \n",
       "1             0.59           0.494           0.686         0.6240   \n",
       "2             0.62           0.525           0.715         0.6753   \n",
       "3             0.61           0.514           0.706         0.6791   \n",
       "4             0.62           0.525           0.715         0.6744   \n",
       "5             0.75           0.665           0.835         0.6608   \n",
       "6             0.60           0.504           0.696         0.5766   \n",
       "7             0.67           0.578           0.762         0.7285   \n",
       "8             0.67           0.578           0.762         0.7481   \n",
       "9             0.70           0.610           0.790         0.6551   \n",
       "10            0.66           0.567           0.753         0.6286   \n",
       "11            0.78           0.699           0.861         0.7407   \n",
       "12            0.62           0.525           0.715         0.6240   \n",
       "13            0.52           0.422           0.618         0.5176   \n",
       "14            0.72           0.632           0.808         0.6980   \n",
       "15            0.74           0.654           0.826         0.7674   \n",
       "16            0.68           0.589           0.771         0.6843   \n",
       "17            0.51           0.412           0.608         0.5601   \n",
       "18            0.73           0.643           0.817         0.6526   \n",
       "19            0.56           0.463           0.657         0.6196   \n",
       "\n",
       "    observed_lower_bound  observed_upper_bound  \n",
       "0                   0.64                  0.64  \n",
       "1                   0.55                  0.69  \n",
       "2                   0.61                  0.73  \n",
       "3                   0.62                  0.73  \n",
       "4                   0.62                  0.73  \n",
       "5                   0.60                  0.72  \n",
       "6                   0.52                  0.64  \n",
       "7                   0.67                  0.77  \n",
       "8                   0.70                  0.80  \n",
       "9                   0.60                  0.72  \n",
       "10                  0.56                  0.69  \n",
       "11                  0.69                  0.79  \n",
       "12                  0.56                  0.68  \n",
       "13                  0.46                  0.59  \n",
       "14                  0.63                  0.75  \n",
       "15                  0.72                  0.82  \n",
       "16                  0.64                  0.74  \n",
       "17                  0.51                  0.61  \n",
       "18                  0.59                  0.71  \n",
       "19                  0.55                  0.67  "
      ]
     },
     "execution_count": 156,
     "metadata": {},
     "output_type": "execute_result"
    }
   ],
   "source": [
    "results"
   ]
  },
  {
   "cell_type": "code",
   "execution_count": 157,
   "metadata": {},
   "outputs": [
    {
     "data": {
      "text/html": [
       "<div>\n",
       "<style scoped>\n",
       "    .dataframe tbody tr th:only-of-type {\n",
       "        vertical-align: middle;\n",
       "    }\n",
       "\n",
       "    .dataframe tbody tr th {\n",
       "        vertical-align: top;\n",
       "    }\n",
       "\n",
       "    .dataframe thead th {\n",
       "        text-align: right;\n",
       "    }\n",
       "</style>\n",
       "<table border=\"1\" class=\"dataframe\">\n",
       "  <thead>\n",
       "    <tr style=\"text-align: right;\">\n",
       "      <th></th>\n",
       "      <th>indiv_test_acc</th>\n",
       "      <th>CI_lower_bound</th>\n",
       "      <th>CI_upper_bound</th>\n",
       "      <th>mean_test_acc</th>\n",
       "      <th>observed_lower_bound</th>\n",
       "      <th>observed_upper_bound</th>\n",
       "    </tr>\n",
       "  </thead>\n",
       "  <tbody>\n",
       "    <tr>\n",
       "      <th>count</th>\n",
       "      <td>20.000000</td>\n",
       "      <td>20.000000</td>\n",
       "      <td>20.000000</td>\n",
       "      <td>20.000000</td>\n",
       "      <td>20.000000</td>\n",
       "      <td>20.000000</td>\n",
       "    </tr>\n",
       "    <tr>\n",
       "      <th>mean</th>\n",
       "      <td>0.649500</td>\n",
       "      <td>0.557250</td>\n",
       "      <td>0.741750</td>\n",
       "      <td>0.657740</td>\n",
       "      <td>0.602000</td>\n",
       "      <td>0.711000</td>\n",
       "    </tr>\n",
       "    <tr>\n",
       "      <th>std</th>\n",
       "      <td>0.074585</td>\n",
       "      <td>0.079133</td>\n",
       "      <td>0.070063</td>\n",
       "      <td>0.063305</td>\n",
       "      <td>0.066775</td>\n",
       "      <td>0.061379</td>\n",
       "    </tr>\n",
       "    <tr>\n",
       "      <th>min</th>\n",
       "      <td>0.510000</td>\n",
       "      <td>0.412000</td>\n",
       "      <td>0.608000</td>\n",
       "      <td>0.517600</td>\n",
       "      <td>0.460000</td>\n",
       "      <td>0.590000</td>\n",
       "    </tr>\n",
       "    <tr>\n",
       "      <th>25%</th>\n",
       "      <td>0.607500</td>\n",
       "      <td>0.511500</td>\n",
       "      <td>0.703500</td>\n",
       "      <td>0.624000</td>\n",
       "      <td>0.557500</td>\n",
       "      <td>0.677500</td>\n",
       "    </tr>\n",
       "    <tr>\n",
       "      <th>50%</th>\n",
       "      <td>0.650000</td>\n",
       "      <td>0.556500</td>\n",
       "      <td>0.743500</td>\n",
       "      <td>0.657950</td>\n",
       "      <td>0.605000</td>\n",
       "      <td>0.720000</td>\n",
       "    </tr>\n",
       "    <tr>\n",
       "      <th>75%</th>\n",
       "      <td>0.705000</td>\n",
       "      <td>0.615500</td>\n",
       "      <td>0.794500</td>\n",
       "      <td>0.687725</td>\n",
       "      <td>0.640000</td>\n",
       "      <td>0.742500</td>\n",
       "    </tr>\n",
       "    <tr>\n",
       "      <th>max</th>\n",
       "      <td>0.780000</td>\n",
       "      <td>0.699000</td>\n",
       "      <td>0.861000</td>\n",
       "      <td>0.767400</td>\n",
       "      <td>0.720000</td>\n",
       "      <td>0.820000</td>\n",
       "    </tr>\n",
       "  </tbody>\n",
       "</table>\n",
       "</div>"
      ],
      "text/plain": [
       "       indiv_test_acc  CI_lower_bound  CI_upper_bound  mean_test_acc  \\\n",
       "count       20.000000       20.000000       20.000000      20.000000   \n",
       "mean         0.649500        0.557250        0.741750       0.657740   \n",
       "std          0.074585        0.079133        0.070063       0.063305   \n",
       "min          0.510000        0.412000        0.608000       0.517600   \n",
       "25%          0.607500        0.511500        0.703500       0.624000   \n",
       "50%          0.650000        0.556500        0.743500       0.657950   \n",
       "75%          0.705000        0.615500        0.794500       0.687725   \n",
       "max          0.780000        0.699000        0.861000       0.767400   \n",
       "\n",
       "       observed_lower_bound  observed_upper_bound  \n",
       "count             20.000000             20.000000  \n",
       "mean               0.602000              0.711000  \n",
       "std                0.066775              0.061379  \n",
       "min                0.460000              0.590000  \n",
       "25%                0.557500              0.677500  \n",
       "50%                0.605000              0.720000  \n",
       "75%                0.640000              0.742500  \n",
       "max                0.720000              0.820000  "
      ]
     },
     "execution_count": 157,
     "metadata": {},
     "output_type": "execute_result"
    }
   ],
   "source": [
    "results.describe()"
   ]
  },
  {
   "cell_type": "code",
   "execution_count": null,
   "metadata": {},
   "outputs": [],
   "source": []
  }
 ],
 "metadata": {
  "kernelspec": {
   "display_name": "Python 3",
   "language": "python",
   "name": "python3"
  },
  "language_info": {
   "codemirror_mode": {
    "name": "ipython",
    "version": 3
   },
   "file_extension": ".py",
   "mimetype": "text/x-python",
   "name": "python",
   "nbconvert_exporter": "python",
   "pygments_lexer": "ipython3",
   "version": "3.8.5"
  }
 },
 "nbformat": 4,
 "nbformat_minor": 4
}
